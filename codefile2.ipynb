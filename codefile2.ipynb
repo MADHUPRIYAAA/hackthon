{
  "nbformat": 4,
  "nbformat_minor": 0,
  "metadata": {
    "colab": {
      "provenance": [],
      "authorship_tag": "ABX9TyPCGhCkFcmHPAcSo+y+wflw",
      "include_colab_link": true
    },
    "kernelspec": {
      "name": "python3",
      "display_name": "Python 3"
    },
    "language_info": {
      "name": "python"
    }
  },
  "cells": [
    {
      "cell_type": "markdown",
      "metadata": {
        "id": "view-in-github",
        "colab_type": "text"
      },
      "source": [
        "<a href=\"https://colab.research.google.com/github/MADHUPRIYAAA/hackthon/blob/main/codefile2.ipynb\" target=\"_parent\"><img src=\"https://colab.research.google.com/assets/colab-badge.svg\" alt=\"Open In Colab\"/></a>"
      ]
    },
    {
      "cell_type": "code",
      "execution_count": null,
      "metadata": {
        "id": "WA2M9RfASR9L"
      },
      "outputs": [],
      "source": [
        "body {\n",
        "  background: linear-gradient(to right, #a8edea, #fed6e3);\n",
        "  font-family: 'Segoe UI', sans-serif;\n",
        "  display: flex;\n",
        "  justify-content: center;\n",
        "  align-items: center;\n",
        "  height: 100vh;\n",
        "  margin: 0;\n",
        "}\n",
        "\n",
        ".login-box {\n",
        "  background: white;\n",
        "  padding: 30px;\n",
        "  border-radius: 15px;\n",
        "  box-shadow: 0 0 15px rgba(0,0,0,0.2);\n",
        "  width: 300px;\n",
        "  text-align: center;\n",
        "}\n",
        "\n",
        ".login-box h2 {\n",
        "  margin-bottom: 20px;\n",
        "}\n",
        "\n",
        "input {\n",
        "  width: 90%;\n",
        "  padding: 10px;\n",
        "  margin: 10px 0;\n",
        "  border: 1px solid #ccc;\n",
        "  border-radius: 8px;\n",
        "}\n",
        "\n",
        "button {\n",
        "  padding: 10px 20px;\n",
        "  background: #4CAF50;\n",
        "  color: white;\n",
        "  border: none;\n",
        "  border-radius: 8px;\n",
        "  cursor: pointer;\n",
        "  margin-top: 10px;\n",
        "}\n",
        "\n",
        "#errorMsg {\n",
        "  color: red;\n",
        "  margin-top: 10px;\n",
        "  display: none;\n",
        "}\n"
      ]
    }
  ]
}