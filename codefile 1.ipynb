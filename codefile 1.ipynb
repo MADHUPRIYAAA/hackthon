{
  "nbformat": 4,
  "nbformat_minor": 0,
  "metadata": {
    "colab": {
      "provenance": [],
      "authorship_tag": "ABX9TyMIzeymv5Kqv3DYedYjDhNM",
      "include_colab_link": true
    },
    "kernelspec": {
      "name": "python3",
      "display_name": "Python 3"
    },
    "language_info": {
      "name": "python"
    }
  },
  "cells": [
    {
      "cell_type": "markdown",
      "metadata": {
        "id": "view-in-github",
        "colab_type": "text"
      },
      "source": [
        "<a href=\"https://colab.research.google.com/github/MADHUPRIYAAA/hackthon/blob/main/codefile%201.ipynb\" target=\"_parent\"><img src=\"https://colab.research.google.com/assets/colab-badge.svg\" alt=\"Open In Colab\"/></a>"
      ]
    },
    {
      "cell_type": "code",
      "execution_count": null,
      "metadata": {
        "id": "aHbXEjDaR-Lz"
      },
      "outputs": [],
      "source": [
        "<!DOCTYPE html>\n",
        "<html lang=\"en\">\n",
        "<head>\n",
        "  <meta charset=\"UTF-8\" />\n",
        "  <meta name=\"viewport\" content=\"width=device-width, initial-scale=1.0\"/>\n",
        "  <title>MedEase Login</title>\n",
        "  <link rel=\"stylesheet\" href=\"login.css\" />\n",
        "</head>\n",
        "<body>\n",
        "  <div class=\"login-box\">\n",
        "    <h2>MedEase Login</h2>\n",
        "    <input type=\"text\" id=\"username\" placeholder=\"Username\" />\n",
        "    <input type=\"password\" id=\"password\" placeholder=\"Password\" />\n",
        "    <button onclick=\"login()\">Login</button>\n",
        "    <p id=\"errorMsg\">Invalid credentials!</p>\n",
        "  </div>\n",
        "\n",
        "  <script>\n",
        "    function login() {\n",
        "      const user = document.getElementById(\"username\").value;\n",
        "      const pass = document.getElementById(\"password\").value;\n",
        "      const errorMsg = document.getElementById(\"errorMsg\");\n",
        "\n",
        "      if (user === \"admin\" && pass === \"1234\") {\n",
        "        window.location.href = \"dashboard.html\";\n",
        "      } else {\n",
        "        errorMsg.style.display = \"block\";\n",
        "      }\n",
        "    }\n",
        "  </script>\n",
        "</body>\n",
        "</html>\n"
      ]
    }
  ]
}